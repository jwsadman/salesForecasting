{
 "cells": [
  {
   "cell_type": "code",
   "execution_count": 33,
   "metadata": {},
   "outputs": [],
   "source": [
    "import pandas as pd \n",
    "import numpy as np \n",
    "import matplotlib.pyplot as pt \n",
    "import seaborn as sn "
   ]
  },
  {
   "cell_type": "code",
   "execution_count": 3,
   "metadata": {},
   "outputs": [
    {
     "name": "stderr",
     "output_type": "stream",
     "text": [
      "<>:1: SyntaxWarning: invalid escape sequence '\\P'\n",
      "<>:1: SyntaxWarning: invalid escape sequence '\\P'\n",
      "C:\\Users\\User\\AppData\\Local\\Temp\\ipykernel_8676\\874889678.py:1: SyntaxWarning: invalid escape sequence '\\P'\n",
      "  data = pd.read_csv(\"G:\\Projects\\Sales Forecast\\Train.csv\")\n"
     ]
    }
   ],
   "source": [
    "data = pd.read_csv(\"G:\\Projects\\Sales Forecast\\Train.csv\")"
   ]
  },
  {
   "cell_type": "code",
   "execution_count": 4,
   "metadata": {},
   "outputs": [
    {
     "data": {
      "text/plain": [
       "(18483, 10)"
      ]
     },
     "execution_count": 4,
     "metadata": {},
     "output_type": "execute_result"
    }
   ],
   "source": [
    "data.shape"
   ]
  },
  {
   "cell_type": "code",
   "execution_count": 5,
   "metadata": {},
   "outputs": [
    {
     "data": {
      "text/html": [
       "<div>\n",
       "<style scoped>\n",
       "    .dataframe tbody tr th:only-of-type {\n",
       "        vertical-align: middle;\n",
       "    }\n",
       "\n",
       "    .dataframe tbody tr th {\n",
       "        vertical-align: top;\n",
       "    }\n",
       "\n",
       "    .dataframe thead th {\n",
       "        text-align: right;\n",
       "    }\n",
       "</style>\n",
       "<table border=\"1\" class=\"dataframe\">\n",
       "  <thead>\n",
       "    <tr style=\"text-align: right;\">\n",
       "      <th></th>\n",
       "      <th>Date</th>\n",
       "      <th>Category</th>\n",
       "      <th>Brand</th>\n",
       "      <th>Day_of_Week</th>\n",
       "      <th>Holiday_Indicator</th>\n",
       "      <th>Past_Purchase_Trends</th>\n",
       "      <th>Price</th>\n",
       "      <th>Discount</th>\n",
       "      <th>Competitor_Price</th>\n",
       "      <th>Sales_Quantity</th>\n",
       "    </tr>\n",
       "  </thead>\n",
       "  <tbody>\n",
       "    <tr>\n",
       "      <th>0</th>\n",
       "      <td>26/09/24</td>\n",
       "      <td>Automotive</td>\n",
       "      <td>BrandA</td>\n",
       "      <td>3</td>\n",
       "      <td>0</td>\n",
       "      <td>17.9</td>\n",
       "      <td>462.30</td>\n",
       "      <td>33.96</td>\n",
       "      <td>359.45</td>\n",
       "      <td>227.0</td>\n",
       "    </tr>\n",
       "    <tr>\n",
       "      <th>1</th>\n",
       "      <td>26/09/24</td>\n",
       "      <td>Automotive</td>\n",
       "      <td>BrandA</td>\n",
       "      <td>3</td>\n",
       "      <td>0</td>\n",
       "      <td>66.3</td>\n",
       "      <td>321.28</td>\n",
       "      <td>24.76</td>\n",
       "      <td>49.47</td>\n",
       "      <td>370.0</td>\n",
       "    </tr>\n",
       "    <tr>\n",
       "      <th>2</th>\n",
       "      <td>26/09/24</td>\n",
       "      <td>Automotive</td>\n",
       "      <td>BrandA</td>\n",
       "      <td>3</td>\n",
       "      <td>0</td>\n",
       "      <td>14.4</td>\n",
       "      <td>74.85</td>\n",
       "      <td>32.19</td>\n",
       "      <td>245.11</td>\n",
       "      <td>299.0</td>\n",
       "    </tr>\n",
       "    <tr>\n",
       "      <th>3</th>\n",
       "      <td>26/09/24</td>\n",
       "      <td>Automotive</td>\n",
       "      <td>BrandA</td>\n",
       "      <td>3</td>\n",
       "      <td>0</td>\n",
       "      <td>34.7</td>\n",
       "      <td>469.12</td>\n",
       "      <td>43.68</td>\n",
       "      <td>144.08</td>\n",
       "      <td>426.0</td>\n",
       "    </tr>\n",
       "    <tr>\n",
       "      <th>4</th>\n",
       "      <td>22/09/24</td>\n",
       "      <td>Automotive</td>\n",
       "      <td>BrandA</td>\n",
       "      <td>6</td>\n",
       "      <td>1</td>\n",
       "      <td>93.5</td>\n",
       "      <td>221.76</td>\n",
       "      <td>36.79</td>\n",
       "      <td>478.07</td>\n",
       "      <td>470.0</td>\n",
       "    </tr>\n",
       "    <tr>\n",
       "      <th>5</th>\n",
       "      <td>22/09/24</td>\n",
       "      <td>Automotive</td>\n",
       "      <td>BrandA</td>\n",
       "      <td>6</td>\n",
       "      <td>1</td>\n",
       "      <td>82.2</td>\n",
       "      <td>321.07</td>\n",
       "      <td>46.44</td>\n",
       "      <td>137.60</td>\n",
       "      <td>448.0</td>\n",
       "    </tr>\n",
       "    <tr>\n",
       "      <th>6</th>\n",
       "      <td>22/09/24</td>\n",
       "      <td>Automotive</td>\n",
       "      <td>BrandA</td>\n",
       "      <td>6</td>\n",
       "      <td>1</td>\n",
       "      <td>19.0</td>\n",
       "      <td>263.28</td>\n",
       "      <td>12.41</td>\n",
       "      <td>418.70</td>\n",
       "      <td>31.0</td>\n",
       "    </tr>\n",
       "    <tr>\n",
       "      <th>7</th>\n",
       "      <td>18/09/24</td>\n",
       "      <td>Automotive</td>\n",
       "      <td>BrandA</td>\n",
       "      <td>2</td>\n",
       "      <td>0</td>\n",
       "      <td>81.4</td>\n",
       "      <td>454.74</td>\n",
       "      <td>20.18</td>\n",
       "      <td>135.07</td>\n",
       "      <td>135.0</td>\n",
       "    </tr>\n",
       "    <tr>\n",
       "      <th>8</th>\n",
       "      <td>10/09/24</td>\n",
       "      <td>Automotive</td>\n",
       "      <td>BrandA</td>\n",
       "      <td>1</td>\n",
       "      <td>0</td>\n",
       "      <td>13.3</td>\n",
       "      <td>81.31</td>\n",
       "      <td>42.01</td>\n",
       "      <td>255.84</td>\n",
       "      <td>349.0</td>\n",
       "    </tr>\n",
       "    <tr>\n",
       "      <th>9</th>\n",
       "      <td>10/09/24</td>\n",
       "      <td>Automotive</td>\n",
       "      <td>BrandA</td>\n",
       "      <td>1</td>\n",
       "      <td>0</td>\n",
       "      <td>28.4</td>\n",
       "      <td>194.20</td>\n",
       "      <td>15.18</td>\n",
       "      <td>323.72</td>\n",
       "      <td>276.0</td>\n",
       "    </tr>\n",
       "  </tbody>\n",
       "</table>\n",
       "</div>"
      ],
      "text/plain": [
       "       Date    Category   Brand  Day_of_Week  Holiday_Indicator  \\\n",
       "0  26/09/24  Automotive  BrandA            3                  0   \n",
       "1  26/09/24  Automotive  BrandA            3                  0   \n",
       "2  26/09/24  Automotive  BrandA            3                  0   \n",
       "3  26/09/24  Automotive  BrandA            3                  0   \n",
       "4  22/09/24  Automotive  BrandA            6                  1   \n",
       "5  22/09/24  Automotive  BrandA            6                  1   \n",
       "6  22/09/24  Automotive  BrandA            6                  1   \n",
       "7  18/09/24  Automotive  BrandA            2                  0   \n",
       "8  10/09/24  Automotive  BrandA            1                  0   \n",
       "9  10/09/24  Automotive  BrandA            1                  0   \n",
       "\n",
       "   Past_Purchase_Trends   Price  Discount  Competitor_Price  Sales_Quantity  \n",
       "0                  17.9  462.30     33.96            359.45           227.0  \n",
       "1                  66.3  321.28     24.76             49.47           370.0  \n",
       "2                  14.4   74.85     32.19            245.11           299.0  \n",
       "3                  34.7  469.12     43.68            144.08           426.0  \n",
       "4                  93.5  221.76     36.79            478.07           470.0  \n",
       "5                  82.2  321.07     46.44            137.60           448.0  \n",
       "6                  19.0  263.28     12.41            418.70            31.0  \n",
       "7                  81.4  454.74     20.18            135.07           135.0  \n",
       "8                  13.3   81.31     42.01            255.84           349.0  \n",
       "9                  28.4  194.20     15.18            323.72           276.0  "
      ]
     },
     "execution_count": 5,
     "metadata": {},
     "output_type": "execute_result"
    }
   ],
   "source": [
    "data.head(10)"
   ]
  },
  {
   "cell_type": "code",
   "execution_count": 6,
   "metadata": {},
   "outputs": [
    {
     "data": {
      "text/html": [
       "<div>\n",
       "<style scoped>\n",
       "    .dataframe tbody tr th:only-of-type {\n",
       "        vertical-align: middle;\n",
       "    }\n",
       "\n",
       "    .dataframe tbody tr th {\n",
       "        vertical-align: top;\n",
       "    }\n",
       "\n",
       "    .dataframe thead th {\n",
       "        text-align: right;\n",
       "    }\n",
       "</style>\n",
       "<table border=\"1\" class=\"dataframe\">\n",
       "  <thead>\n",
       "    <tr style=\"text-align: right;\">\n",
       "      <th></th>\n",
       "      <th>Date</th>\n",
       "      <th>Category</th>\n",
       "      <th>Brand</th>\n",
       "      <th>Day_of_Week</th>\n",
       "      <th>Holiday_Indicator</th>\n",
       "      <th>Past_Purchase_Trends</th>\n",
       "      <th>Price</th>\n",
       "      <th>Discount</th>\n",
       "      <th>Competitor_Price</th>\n",
       "      <th>Sales_Quantity</th>\n",
       "    </tr>\n",
       "  </thead>\n",
       "  <tbody>\n",
       "    <tr>\n",
       "      <th>18473</th>\n",
       "      <td>14/03/21</td>\n",
       "      <td>Toys</td>\n",
       "      <td>BrandF</td>\n",
       "      <td>6</td>\n",
       "      <td>1</td>\n",
       "      <td>45.7</td>\n",
       "      <td>140.75</td>\n",
       "      <td>27.72</td>\n",
       "      <td>347.44</td>\n",
       "      <td>10.0</td>\n",
       "    </tr>\n",
       "    <tr>\n",
       "      <th>18474</th>\n",
       "      <td>14/03/21</td>\n",
       "      <td>Toys</td>\n",
       "      <td>BrandF</td>\n",
       "      <td>6</td>\n",
       "      <td>1</td>\n",
       "      <td>31.9</td>\n",
       "      <td>166.68</td>\n",
       "      <td>20.43</td>\n",
       "      <td>313.72</td>\n",
       "      <td>142.0</td>\n",
       "    </tr>\n",
       "    <tr>\n",
       "      <th>18475</th>\n",
       "      <td>10/03/21</td>\n",
       "      <td>Toys</td>\n",
       "      <td>BrandF</td>\n",
       "      <td>2</td>\n",
       "      <td>0</td>\n",
       "      <td>11.7</td>\n",
       "      <td>448.05</td>\n",
       "      <td>10.66</td>\n",
       "      <td>125.97</td>\n",
       "      <td>240.0</td>\n",
       "    </tr>\n",
       "    <tr>\n",
       "      <th>18476</th>\n",
       "      <td>10/03/21</td>\n",
       "      <td>Toys</td>\n",
       "      <td>BrandF</td>\n",
       "      <td>2</td>\n",
       "      <td>0</td>\n",
       "      <td>42.6</td>\n",
       "      <td>164.52</td>\n",
       "      <td>36.34</td>\n",
       "      <td>450.79</td>\n",
       "      <td>300.0</td>\n",
       "    </tr>\n",
       "    <tr>\n",
       "      <th>18477</th>\n",
       "      <td>06/03/21</td>\n",
       "      <td>Toys</td>\n",
       "      <td>BrandF</td>\n",
       "      <td>5</td>\n",
       "      <td>0</td>\n",
       "      <td>58.2</td>\n",
       "      <td>313.53</td>\n",
       "      <td>33.26</td>\n",
       "      <td>134.03</td>\n",
       "      <td>183.0</td>\n",
       "    </tr>\n",
       "    <tr>\n",
       "      <th>18478</th>\n",
       "      <td>18/02/21</td>\n",
       "      <td>Toys</td>\n",
       "      <td>BrandF</td>\n",
       "      <td>3</td>\n",
       "      <td>0</td>\n",
       "      <td>22.0</td>\n",
       "      <td>266.55</td>\n",
       "      <td>18.33</td>\n",
       "      <td>383.05</td>\n",
       "      <td>359.0</td>\n",
       "    </tr>\n",
       "    <tr>\n",
       "      <th>18479</th>\n",
       "      <td>10/02/21</td>\n",
       "      <td>Toys</td>\n",
       "      <td>BrandF</td>\n",
       "      <td>2</td>\n",
       "      <td>0</td>\n",
       "      <td>48.4</td>\n",
       "      <td>481.87</td>\n",
       "      <td>23.41</td>\n",
       "      <td>469.83</td>\n",
       "      <td>333.0</td>\n",
       "    </tr>\n",
       "    <tr>\n",
       "      <th>18480</th>\n",
       "      <td>02/02/21</td>\n",
       "      <td>Toys</td>\n",
       "      <td>BrandF</td>\n",
       "      <td>1</td>\n",
       "      <td>0</td>\n",
       "      <td>50.7</td>\n",
       "      <td>123.81</td>\n",
       "      <td>46.73</td>\n",
       "      <td>214.11</td>\n",
       "      <td>132.0</td>\n",
       "    </tr>\n",
       "    <tr>\n",
       "      <th>18481</th>\n",
       "      <td>25/01/21</td>\n",
       "      <td>Toys</td>\n",
       "      <td>BrandF</td>\n",
       "      <td>0</td>\n",
       "      <td>0</td>\n",
       "      <td>73.4</td>\n",
       "      <td>77.95</td>\n",
       "      <td>10.07</td>\n",
       "      <td>82.28</td>\n",
       "      <td>274.0</td>\n",
       "    </tr>\n",
       "    <tr>\n",
       "      <th>18482</th>\n",
       "      <td>21/01/21</td>\n",
       "      <td>Toys</td>\n",
       "      <td>BrandF</td>\n",
       "      <td>3</td>\n",
       "      <td>0</td>\n",
       "      <td>5.1</td>\n",
       "      <td>473.60</td>\n",
       "      <td>6.21</td>\n",
       "      <td>427.60</td>\n",
       "      <td>350.0</td>\n",
       "    </tr>\n",
       "  </tbody>\n",
       "</table>\n",
       "</div>"
      ],
      "text/plain": [
       "           Date Category   Brand  Day_of_Week  Holiday_Indicator  \\\n",
       "18473  14/03/21     Toys  BrandF            6                  1   \n",
       "18474  14/03/21     Toys  BrandF            6                  1   \n",
       "18475  10/03/21     Toys  BrandF            2                  0   \n",
       "18476  10/03/21     Toys  BrandF            2                  0   \n",
       "18477  06/03/21     Toys  BrandF            5                  0   \n",
       "18478  18/02/21     Toys  BrandF            3                  0   \n",
       "18479  10/02/21     Toys  BrandF            2                  0   \n",
       "18480  02/02/21     Toys  BrandF            1                  0   \n",
       "18481  25/01/21     Toys  BrandF            0                  0   \n",
       "18482  21/01/21     Toys  BrandF            3                  0   \n",
       "\n",
       "       Past_Purchase_Trends   Price  Discount  Competitor_Price  \\\n",
       "18473                  45.7  140.75     27.72            347.44   \n",
       "18474                  31.9  166.68     20.43            313.72   \n",
       "18475                  11.7  448.05     10.66            125.97   \n",
       "18476                  42.6  164.52     36.34            450.79   \n",
       "18477                  58.2  313.53     33.26            134.03   \n",
       "18478                  22.0  266.55     18.33            383.05   \n",
       "18479                  48.4  481.87     23.41            469.83   \n",
       "18480                  50.7  123.81     46.73            214.11   \n",
       "18481                  73.4   77.95     10.07             82.28   \n",
       "18482                   5.1  473.60      6.21            427.60   \n",
       "\n",
       "       Sales_Quantity  \n",
       "18473            10.0  \n",
       "18474           142.0  \n",
       "18475           240.0  \n",
       "18476           300.0  \n",
       "18477           183.0  \n",
       "18478           359.0  \n",
       "18479           333.0  \n",
       "18480           132.0  \n",
       "18481           274.0  \n",
       "18482           350.0  "
      ]
     },
     "execution_count": 6,
     "metadata": {},
     "output_type": "execute_result"
    }
   ],
   "source": [
    "data.tail(10)"
   ]
  },
  {
   "cell_type": "code",
   "execution_count": 7,
   "metadata": {},
   "outputs": [
    {
     "name": "stdout",
     "output_type": "stream",
     "text": [
      "<class 'pandas.core.frame.DataFrame'>\n",
      "RangeIndex: 18483 entries, 0 to 18482\n",
      "Data columns (total 10 columns):\n",
      " #   Column                Non-Null Count  Dtype  \n",
      "---  ------                --------------  -----  \n",
      " 0   Date                  18483 non-null  object \n",
      " 1   Category              18483 non-null  object \n",
      " 2   Brand                 18483 non-null  object \n",
      " 3   Day_of_Week           18483 non-null  int64  \n",
      " 4   Holiday_Indicator     18483 non-null  int64  \n",
      " 5   Past_Purchase_Trends  18483 non-null  float64\n",
      " 6   Price                 18483 non-null  float64\n",
      " 7   Discount              18483 non-null  float64\n",
      " 8   Competitor_Price      18483 non-null  float64\n",
      " 9   Sales_Quantity        18019 non-null  float64\n",
      "dtypes: float64(5), int64(2), object(3)\n",
      "memory usage: 1.4+ MB\n"
     ]
    }
   ],
   "source": [
    "data.info()"
   ]
  },
  {
   "cell_type": "markdown",
   "metadata": {},
   "source": [
    "We'll have to change the date column's datatype"
   ]
  },
  {
   "cell_type": "code",
   "execution_count": 8,
   "metadata": {},
   "outputs": [
    {
     "data": {
      "text/html": [
       "<div>\n",
       "<style scoped>\n",
       "    .dataframe tbody tr th:only-of-type {\n",
       "        vertical-align: middle;\n",
       "    }\n",
       "\n",
       "    .dataframe tbody tr th {\n",
       "        vertical-align: top;\n",
       "    }\n",
       "\n",
       "    .dataframe thead th {\n",
       "        text-align: right;\n",
       "    }\n",
       "</style>\n",
       "<table border=\"1\" class=\"dataframe\">\n",
       "  <thead>\n",
       "    <tr style=\"text-align: right;\">\n",
       "      <th></th>\n",
       "      <th>Day_of_Week</th>\n",
       "      <th>Holiday_Indicator</th>\n",
       "      <th>Past_Purchase_Trends</th>\n",
       "      <th>Price</th>\n",
       "      <th>Discount</th>\n",
       "      <th>Competitor_Price</th>\n",
       "      <th>Sales_Quantity</th>\n",
       "    </tr>\n",
       "  </thead>\n",
       "  <tbody>\n",
       "    <tr>\n",
       "      <th>count</th>\n",
       "      <td>18483.000000</td>\n",
       "      <td>18483.000000</td>\n",
       "      <td>18483.000000</td>\n",
       "      <td>18483.000000</td>\n",
       "      <td>18483.000000</td>\n",
       "      <td>18483.000000</td>\n",
       "      <td>18019.000000</td>\n",
       "    </tr>\n",
       "    <tr>\n",
       "      <th>mean</th>\n",
       "      <td>2.991235</td>\n",
       "      <td>0.142022</td>\n",
       "      <td>52.329465</td>\n",
       "      <td>275.111184</td>\n",
       "      <td>27.490937</td>\n",
       "      <td>259.858758</td>\n",
       "      <td>255.665631</td>\n",
       "    </tr>\n",
       "    <tr>\n",
       "      <th>std</th>\n",
       "      <td>2.000765</td>\n",
       "      <td>0.349083</td>\n",
       "      <td>27.410577</td>\n",
       "      <td>129.733609</td>\n",
       "      <td>13.022521</td>\n",
       "      <td>126.653165</td>\n",
       "      <td>141.179795</td>\n",
       "    </tr>\n",
       "    <tr>\n",
       "      <th>min</th>\n",
       "      <td>0.000000</td>\n",
       "      <td>0.000000</td>\n",
       "      <td>5.000000</td>\n",
       "      <td>50.070000</td>\n",
       "      <td>5.000000</td>\n",
       "      <td>40.070000</td>\n",
       "      <td>10.000000</td>\n",
       "    </tr>\n",
       "    <tr>\n",
       "      <th>25%</th>\n",
       "      <td>1.000000</td>\n",
       "      <td>0.000000</td>\n",
       "      <td>28.900000</td>\n",
       "      <td>163.315000</td>\n",
       "      <td>16.265000</td>\n",
       "      <td>149.530000</td>\n",
       "      <td>133.500000</td>\n",
       "    </tr>\n",
       "    <tr>\n",
       "      <th>50%</th>\n",
       "      <td>3.000000</td>\n",
       "      <td>0.000000</td>\n",
       "      <td>52.500000</td>\n",
       "      <td>275.150000</td>\n",
       "      <td>27.600000</td>\n",
       "      <td>260.260000</td>\n",
       "      <td>257.000000</td>\n",
       "    </tr>\n",
       "    <tr>\n",
       "      <th>75%</th>\n",
       "      <td>5.000000</td>\n",
       "      <td>0.000000</td>\n",
       "      <td>75.700000</td>\n",
       "      <td>387.650000</td>\n",
       "      <td>38.690000</td>\n",
       "      <td>368.520000</td>\n",
       "      <td>377.000000</td>\n",
       "    </tr>\n",
       "    <tr>\n",
       "      <th>max</th>\n",
       "      <td>6.000000</td>\n",
       "      <td>1.000000</td>\n",
       "      <td>100.000000</td>\n",
       "      <td>499.900000</td>\n",
       "      <td>49.990000</td>\n",
       "      <td>479.990000</td>\n",
       "      <td>499.000000</td>\n",
       "    </tr>\n",
       "  </tbody>\n",
       "</table>\n",
       "</div>"
      ],
      "text/plain": [
       "        Day_of_Week  Holiday_Indicator  Past_Purchase_Trends         Price  \\\n",
       "count  18483.000000       18483.000000          18483.000000  18483.000000   \n",
       "mean       2.991235           0.142022             52.329465    275.111184   \n",
       "std        2.000765           0.349083             27.410577    129.733609   \n",
       "min        0.000000           0.000000              5.000000     50.070000   \n",
       "25%        1.000000           0.000000             28.900000    163.315000   \n",
       "50%        3.000000           0.000000             52.500000    275.150000   \n",
       "75%        5.000000           0.000000             75.700000    387.650000   \n",
       "max        6.000000           1.000000            100.000000    499.900000   \n",
       "\n",
       "           Discount  Competitor_Price  Sales_Quantity  \n",
       "count  18483.000000      18483.000000    18019.000000  \n",
       "mean      27.490937        259.858758      255.665631  \n",
       "std       13.022521        126.653165      141.179795  \n",
       "min        5.000000         40.070000       10.000000  \n",
       "25%       16.265000        149.530000      133.500000  \n",
       "50%       27.600000        260.260000      257.000000  \n",
       "75%       38.690000        368.520000      377.000000  \n",
       "max       49.990000        479.990000      499.000000  "
      ]
     },
     "execution_count": 8,
     "metadata": {},
     "output_type": "execute_result"
    }
   ],
   "source": [
    "data.describe()"
   ]
  },
  {
   "cell_type": "code",
   "execution_count": 9,
   "metadata": {},
   "outputs": [
    {
     "data": {
      "text/plain": [
       "Category\n",
       "Beauty         2382\n",
       "Clothing       2361\n",
       "Sports         2321\n",
       "Toys           2315\n",
       "Automotive     2313\n",
       "Books          2299\n",
       "Home           2252\n",
       "Electronics    2240\n",
       "Name: count, dtype: int64"
      ]
     },
     "execution_count": 9,
     "metadata": {},
     "output_type": "execute_result"
    }
   ],
   "source": [
    "data[\"Category\"].value_counts()"
   ]
  },
  {
   "cell_type": "code",
   "execution_count": 10,
   "metadata": {},
   "outputs": [
    {
     "data": {
      "text/plain": [
       "array(['Automotive', 'Beauty', 'Books', 'Clothing', 'Electronics', 'Home',\n",
       "       'Sports', 'Toys'], dtype=object)"
      ]
     },
     "execution_count": 10,
     "metadata": {},
     "output_type": "execute_result"
    }
   ],
   "source": [
    "data[\"Category\"].unique()"
   ]
  },
  {
   "cell_type": "code",
   "execution_count": 11,
   "metadata": {},
   "outputs": [
    {
     "data": {
      "text/plain": [
       "Brand\n",
       "BrandE    3149\n",
       "BrandA    3148\n",
       "BrandF    3145\n",
       "BrandD    3027\n",
       "BrandB    3007\n",
       "BrandC    3007\n",
       "Name: count, dtype: int64"
      ]
     },
     "execution_count": 11,
     "metadata": {},
     "output_type": "execute_result"
    }
   ],
   "source": [
    "data[\"Brand\"].value_counts()"
   ]
  },
  {
   "cell_type": "code",
   "execution_count": 12,
   "metadata": {},
   "outputs": [
    {
     "data": {
      "text/plain": [
       "array(['BrandA', 'BrandB', 'BrandC', 'BrandD', 'BrandE', 'BrandF'],\n",
       "      dtype=object)"
      ]
     },
     "execution_count": 12,
     "metadata": {},
     "output_type": "execute_result"
    }
   ],
   "source": [
    "data[\"Brand\"].unique()"
   ]
  },
  {
   "cell_type": "markdown",
   "metadata": {},
   "source": [
    "There are 8 categories and 6 Brands"
   ]
  },
  {
   "cell_type": "code",
   "execution_count": 13,
   "metadata": {},
   "outputs": [
    {
     "data": {
      "text/plain": [
       "Day_of_Week\n",
       "3    2679\n",
       "0    2679\n",
       "6    2625\n",
       "2    2625\n",
       "1    2625\n",
       "4    2625\n",
       "5    2625\n",
       "Name: count, dtype: int64"
      ]
     },
     "execution_count": 13,
     "metadata": {},
     "output_type": "execute_result"
    }
   ],
   "source": [
    "data[\"Day_of_Week\"].value_counts()"
   ]
  },
  {
   "cell_type": "code",
   "execution_count": 14,
   "metadata": {},
   "outputs": [
    {
     "data": {
      "text/plain": [
       "Holiday_Indicator\n",
       "0    15858\n",
       "1     2625\n",
       "Name: count, dtype: int64"
      ]
     },
     "execution_count": 14,
     "metadata": {},
     "output_type": "execute_result"
    }
   ],
   "source": [
    "data[\"Holiday_Indicator\"].value_counts()"
   ]
  },
  {
   "cell_type": "markdown",
   "metadata": {},
   "source": [
    "Which means at holidays sales are very very high"
   ]
  },
  {
   "cell_type": "code",
   "execution_count": 15,
   "metadata": {},
   "outputs": [
    {
     "data": {
      "text/plain": [
       "False    18483\n",
       "Name: count, dtype: int64"
      ]
     },
     "execution_count": 15,
     "metadata": {},
     "output_type": "execute_result"
    }
   ],
   "source": [
    "data.duplicated().value_counts()"
   ]
  },
  {
   "cell_type": "code",
   "execution_count": 16,
   "metadata": {},
   "outputs": [
    {
     "data": {
      "text/plain": [
       "Date                      0\n",
       "Category                  0\n",
       "Brand                     0\n",
       "Day_of_Week               0\n",
       "Holiday_Indicator         0\n",
       "Past_Purchase_Trends      0\n",
       "Price                     0\n",
       "Discount                  0\n",
       "Competitor_Price          0\n",
       "Sales_Quantity          464\n",
       "dtype: int64"
      ]
     },
     "execution_count": 16,
     "metadata": {},
     "output_type": "execute_result"
    }
   ],
   "source": [
    "data.isna().sum()"
   ]
  },
  {
   "cell_type": "markdown",
   "metadata": {},
   "source": [
    "There are null values in the Sales_Quantity column"
   ]
  },
  {
   "cell_type": "code",
   "execution_count": 17,
   "metadata": {},
   "outputs": [
    {
     "name": "stderr",
     "output_type": "stream",
     "text": [
      "C:\\Users\\User\\AppData\\Local\\Temp\\ipykernel_8676\\2487158108.py:1: UserWarning: Could not infer format, so each element will be parsed individually, falling back to `dateutil`. To ensure parsing is consistent and as-expected, please specify a format.\n",
      "  data[\"Date\"] = pd.to_datetime(data[\"Date\"])\n"
     ]
    }
   ],
   "source": [
    "data[\"Date\"] = pd.to_datetime(data[\"Date\"])"
   ]
  },
  {
   "cell_type": "code",
   "execution_count": 18,
   "metadata": {},
   "outputs": [
    {
     "name": "stdout",
     "output_type": "stream",
     "text": [
      "<class 'pandas.core.frame.DataFrame'>\n",
      "RangeIndex: 18483 entries, 0 to 18482\n",
      "Data columns (total 10 columns):\n",
      " #   Column                Non-Null Count  Dtype         \n",
      "---  ------                --------------  -----         \n",
      " 0   Date                  18483 non-null  datetime64[ns]\n",
      " 1   Category              18483 non-null  object        \n",
      " 2   Brand                 18483 non-null  object        \n",
      " 3   Day_of_Week           18483 non-null  int64         \n",
      " 4   Holiday_Indicator     18483 non-null  int64         \n",
      " 5   Past_Purchase_Trends  18483 non-null  float64       \n",
      " 6   Price                 18483 non-null  float64       \n",
      " 7   Discount              18483 non-null  float64       \n",
      " 8   Competitor_Price      18483 non-null  float64       \n",
      " 9   Sales_Quantity        18019 non-null  float64       \n",
      "dtypes: datetime64[ns](1), float64(5), int64(2), object(2)\n",
      "memory usage: 1.4+ MB\n"
     ]
    }
   ],
   "source": [
    "data.info()"
   ]
  },
  {
   "cell_type": "code",
   "execution_count": 19,
   "metadata": {},
   "outputs": [
    {
     "data": {
      "text/html": [
       "<div>\n",
       "<style scoped>\n",
       "    .dataframe tbody tr th:only-of-type {\n",
       "        vertical-align: middle;\n",
       "    }\n",
       "\n",
       "    .dataframe tbody tr th {\n",
       "        vertical-align: top;\n",
       "    }\n",
       "\n",
       "    .dataframe thead th {\n",
       "        text-align: right;\n",
       "    }\n",
       "</style>\n",
       "<table border=\"1\" class=\"dataframe\">\n",
       "  <thead>\n",
       "    <tr style=\"text-align: right;\">\n",
       "      <th></th>\n",
       "      <th>Date</th>\n",
       "      <th>Category</th>\n",
       "      <th>Brand</th>\n",
       "      <th>Day_of_Week</th>\n",
       "      <th>Holiday_Indicator</th>\n",
       "      <th>Past_Purchase_Trends</th>\n",
       "      <th>Price</th>\n",
       "      <th>Discount</th>\n",
       "      <th>Competitor_Price</th>\n",
       "      <th>Sales_Quantity</th>\n",
       "    </tr>\n",
       "  </thead>\n",
       "  <tbody>\n",
       "    <tr>\n",
       "      <th>0</th>\n",
       "      <td>2024-09-26</td>\n",
       "      <td>Automotive</td>\n",
       "      <td>BrandA</td>\n",
       "      <td>3</td>\n",
       "      <td>0</td>\n",
       "      <td>17.9</td>\n",
       "      <td>462.30</td>\n",
       "      <td>33.96</td>\n",
       "      <td>359.45</td>\n",
       "      <td>227.0</td>\n",
       "    </tr>\n",
       "    <tr>\n",
       "      <th>1</th>\n",
       "      <td>2024-09-26</td>\n",
       "      <td>Automotive</td>\n",
       "      <td>BrandA</td>\n",
       "      <td>3</td>\n",
       "      <td>0</td>\n",
       "      <td>66.3</td>\n",
       "      <td>321.28</td>\n",
       "      <td>24.76</td>\n",
       "      <td>49.47</td>\n",
       "      <td>370.0</td>\n",
       "    </tr>\n",
       "    <tr>\n",
       "      <th>2</th>\n",
       "      <td>2024-09-26</td>\n",
       "      <td>Automotive</td>\n",
       "      <td>BrandA</td>\n",
       "      <td>3</td>\n",
       "      <td>0</td>\n",
       "      <td>14.4</td>\n",
       "      <td>74.85</td>\n",
       "      <td>32.19</td>\n",
       "      <td>245.11</td>\n",
       "      <td>299.0</td>\n",
       "    </tr>\n",
       "    <tr>\n",
       "      <th>3</th>\n",
       "      <td>2024-09-26</td>\n",
       "      <td>Automotive</td>\n",
       "      <td>BrandA</td>\n",
       "      <td>3</td>\n",
       "      <td>0</td>\n",
       "      <td>34.7</td>\n",
       "      <td>469.12</td>\n",
       "      <td>43.68</td>\n",
       "      <td>144.08</td>\n",
       "      <td>426.0</td>\n",
       "    </tr>\n",
       "    <tr>\n",
       "      <th>4</th>\n",
       "      <td>2024-09-22</td>\n",
       "      <td>Automotive</td>\n",
       "      <td>BrandA</td>\n",
       "      <td>6</td>\n",
       "      <td>1</td>\n",
       "      <td>93.5</td>\n",
       "      <td>221.76</td>\n",
       "      <td>36.79</td>\n",
       "      <td>478.07</td>\n",
       "      <td>470.0</td>\n",
       "    </tr>\n",
       "  </tbody>\n",
       "</table>\n",
       "</div>"
      ],
      "text/plain": [
       "        Date    Category   Brand  Day_of_Week  Holiday_Indicator  \\\n",
       "0 2024-09-26  Automotive  BrandA            3                  0   \n",
       "1 2024-09-26  Automotive  BrandA            3                  0   \n",
       "2 2024-09-26  Automotive  BrandA            3                  0   \n",
       "3 2024-09-26  Automotive  BrandA            3                  0   \n",
       "4 2024-09-22  Automotive  BrandA            6                  1   \n",
       "\n",
       "   Past_Purchase_Trends   Price  Discount  Competitor_Price  Sales_Quantity  \n",
       "0                  17.9  462.30     33.96            359.45           227.0  \n",
       "1                  66.3  321.28     24.76             49.47           370.0  \n",
       "2                  14.4   74.85     32.19            245.11           299.0  \n",
       "3                  34.7  469.12     43.68            144.08           426.0  \n",
       "4                  93.5  221.76     36.79            478.07           470.0  "
      ]
     },
     "execution_count": 19,
     "metadata": {},
     "output_type": "execute_result"
    }
   ],
   "source": [
    "data.head()"
   ]
  },
  {
   "cell_type": "code",
   "execution_count": 20,
   "metadata": {},
   "outputs": [],
   "source": [
    "data[\"year\"] = data.Date.dt.year\n"
   ]
  },
  {
   "cell_type": "code",
   "execution_count": 21,
   "metadata": {},
   "outputs": [],
   "source": [
    "data[\"month\"] = data.Date.dt.month\n",
    "data[\"day\"] = data.Date.dt.day\n",
    "data[\"quarter\"] = data.Date.dt.quarter\n",
    "data[\"is_month_start\"] = data.Date.dt.is_month_start\n",
    "data[\"is_month_end\"] = data.Date.dt.is_month_end\n",
    "data[\"is_year_end\"] = data.Date.dt.is_year_end"
   ]
  },
  {
   "cell_type": "code",
   "execution_count": 22,
   "metadata": {},
   "outputs": [
    {
     "data": {
      "text/html": [
       "<div>\n",
       "<style scoped>\n",
       "    .dataframe tbody tr th:only-of-type {\n",
       "        vertical-align: middle;\n",
       "    }\n",
       "\n",
       "    .dataframe tbody tr th {\n",
       "        vertical-align: top;\n",
       "    }\n",
       "\n",
       "    .dataframe thead th {\n",
       "        text-align: right;\n",
       "    }\n",
       "</style>\n",
       "<table border=\"1\" class=\"dataframe\">\n",
       "  <thead>\n",
       "    <tr style=\"text-align: right;\">\n",
       "      <th></th>\n",
       "      <th>Date</th>\n",
       "      <th>Category</th>\n",
       "      <th>Brand</th>\n",
       "      <th>Day_of_Week</th>\n",
       "      <th>Holiday_Indicator</th>\n",
       "      <th>Past_Purchase_Trends</th>\n",
       "      <th>Price</th>\n",
       "      <th>Discount</th>\n",
       "      <th>Competitor_Price</th>\n",
       "      <th>Sales_Quantity</th>\n",
       "      <th>year</th>\n",
       "      <th>month</th>\n",
       "      <th>day</th>\n",
       "      <th>quarter</th>\n",
       "      <th>is_month_start</th>\n",
       "      <th>is_month_end</th>\n",
       "      <th>is_year_end</th>\n",
       "    </tr>\n",
       "  </thead>\n",
       "  <tbody>\n",
       "    <tr>\n",
       "      <th>0</th>\n",
       "      <td>2024-09-26</td>\n",
       "      <td>Automotive</td>\n",
       "      <td>BrandA</td>\n",
       "      <td>3</td>\n",
       "      <td>0</td>\n",
       "      <td>17.9</td>\n",
       "      <td>462.30</td>\n",
       "      <td>33.96</td>\n",
       "      <td>359.45</td>\n",
       "      <td>227.0</td>\n",
       "      <td>2024</td>\n",
       "      <td>9</td>\n",
       "      <td>26</td>\n",
       "      <td>3</td>\n",
       "      <td>False</td>\n",
       "      <td>False</td>\n",
       "      <td>False</td>\n",
       "    </tr>\n",
       "    <tr>\n",
       "      <th>1</th>\n",
       "      <td>2024-09-26</td>\n",
       "      <td>Automotive</td>\n",
       "      <td>BrandA</td>\n",
       "      <td>3</td>\n",
       "      <td>0</td>\n",
       "      <td>66.3</td>\n",
       "      <td>321.28</td>\n",
       "      <td>24.76</td>\n",
       "      <td>49.47</td>\n",
       "      <td>370.0</td>\n",
       "      <td>2024</td>\n",
       "      <td>9</td>\n",
       "      <td>26</td>\n",
       "      <td>3</td>\n",
       "      <td>False</td>\n",
       "      <td>False</td>\n",
       "      <td>False</td>\n",
       "    </tr>\n",
       "    <tr>\n",
       "      <th>2</th>\n",
       "      <td>2024-09-26</td>\n",
       "      <td>Automotive</td>\n",
       "      <td>BrandA</td>\n",
       "      <td>3</td>\n",
       "      <td>0</td>\n",
       "      <td>14.4</td>\n",
       "      <td>74.85</td>\n",
       "      <td>32.19</td>\n",
       "      <td>245.11</td>\n",
       "      <td>299.0</td>\n",
       "      <td>2024</td>\n",
       "      <td>9</td>\n",
       "      <td>26</td>\n",
       "      <td>3</td>\n",
       "      <td>False</td>\n",
       "      <td>False</td>\n",
       "      <td>False</td>\n",
       "    </tr>\n",
       "    <tr>\n",
       "      <th>3</th>\n",
       "      <td>2024-09-26</td>\n",
       "      <td>Automotive</td>\n",
       "      <td>BrandA</td>\n",
       "      <td>3</td>\n",
       "      <td>0</td>\n",
       "      <td>34.7</td>\n",
       "      <td>469.12</td>\n",
       "      <td>43.68</td>\n",
       "      <td>144.08</td>\n",
       "      <td>426.0</td>\n",
       "      <td>2024</td>\n",
       "      <td>9</td>\n",
       "      <td>26</td>\n",
       "      <td>3</td>\n",
       "      <td>False</td>\n",
       "      <td>False</td>\n",
       "      <td>False</td>\n",
       "    </tr>\n",
       "    <tr>\n",
       "      <th>4</th>\n",
       "      <td>2024-09-22</td>\n",
       "      <td>Automotive</td>\n",
       "      <td>BrandA</td>\n",
       "      <td>6</td>\n",
       "      <td>1</td>\n",
       "      <td>93.5</td>\n",
       "      <td>221.76</td>\n",
       "      <td>36.79</td>\n",
       "      <td>478.07</td>\n",
       "      <td>470.0</td>\n",
       "      <td>2024</td>\n",
       "      <td>9</td>\n",
       "      <td>22</td>\n",
       "      <td>3</td>\n",
       "      <td>False</td>\n",
       "      <td>False</td>\n",
       "      <td>False</td>\n",
       "    </tr>\n",
       "  </tbody>\n",
       "</table>\n",
       "</div>"
      ],
      "text/plain": [
       "        Date    Category   Brand  Day_of_Week  Holiday_Indicator  \\\n",
       "0 2024-09-26  Automotive  BrandA            3                  0   \n",
       "1 2024-09-26  Automotive  BrandA            3                  0   \n",
       "2 2024-09-26  Automotive  BrandA            3                  0   \n",
       "3 2024-09-26  Automotive  BrandA            3                  0   \n",
       "4 2024-09-22  Automotive  BrandA            6                  1   \n",
       "\n",
       "   Past_Purchase_Trends   Price  Discount  Competitor_Price  Sales_Quantity  \\\n",
       "0                  17.9  462.30     33.96            359.45           227.0   \n",
       "1                  66.3  321.28     24.76             49.47           370.0   \n",
       "2                  14.4   74.85     32.19            245.11           299.0   \n",
       "3                  34.7  469.12     43.68            144.08           426.0   \n",
       "4                  93.5  221.76     36.79            478.07           470.0   \n",
       "\n",
       "   year  month  day  quarter  is_month_start  is_month_end  is_year_end  \n",
       "0  2024      9   26        3           False         False        False  \n",
       "1  2024      9   26        3           False         False        False  \n",
       "2  2024      9   26        3           False         False        False  \n",
       "3  2024      9   26        3           False         False        False  \n",
       "4  2024      9   22        3           False         False        False  "
      ]
     },
     "execution_count": 22,
     "metadata": {},
     "output_type": "execute_result"
    }
   ],
   "source": [
    "data.head()"
   ]
  },
  {
   "cell_type": "code",
   "execution_count": 23,
   "metadata": {},
   "outputs": [],
   "source": [
    "data[\"Difference\"] = data.Price - data.Competitor_Price"
   ]
  },
  {
   "cell_type": "code",
   "execution_count": 24,
   "metadata": {},
   "outputs": [
    {
     "data": {
      "text/html": [
       "<div>\n",
       "<style scoped>\n",
       "    .dataframe tbody tr th:only-of-type {\n",
       "        vertical-align: middle;\n",
       "    }\n",
       "\n",
       "    .dataframe tbody tr th {\n",
       "        vertical-align: top;\n",
       "    }\n",
       "\n",
       "    .dataframe thead th {\n",
       "        text-align: right;\n",
       "    }\n",
       "</style>\n",
       "<table border=\"1\" class=\"dataframe\">\n",
       "  <thead>\n",
       "    <tr style=\"text-align: right;\">\n",
       "      <th></th>\n",
       "      <th>Date</th>\n",
       "      <th>Category</th>\n",
       "      <th>Brand</th>\n",
       "      <th>Day_of_Week</th>\n",
       "      <th>Holiday_Indicator</th>\n",
       "      <th>Past_Purchase_Trends</th>\n",
       "      <th>Price</th>\n",
       "      <th>Discount</th>\n",
       "      <th>Competitor_Price</th>\n",
       "      <th>Sales_Quantity</th>\n",
       "      <th>year</th>\n",
       "      <th>month</th>\n",
       "      <th>day</th>\n",
       "      <th>quarter</th>\n",
       "      <th>is_month_start</th>\n",
       "      <th>is_month_end</th>\n",
       "      <th>is_year_end</th>\n",
       "      <th>Difference</th>\n",
       "    </tr>\n",
       "  </thead>\n",
       "  <tbody>\n",
       "    <tr>\n",
       "      <th>0</th>\n",
       "      <td>2024-09-26</td>\n",
       "      <td>Automotive</td>\n",
       "      <td>BrandA</td>\n",
       "      <td>3</td>\n",
       "      <td>0</td>\n",
       "      <td>17.9</td>\n",
       "      <td>462.30</td>\n",
       "      <td>33.96</td>\n",
       "      <td>359.45</td>\n",
       "      <td>227.0</td>\n",
       "      <td>2024</td>\n",
       "      <td>9</td>\n",
       "      <td>26</td>\n",
       "      <td>3</td>\n",
       "      <td>False</td>\n",
       "      <td>False</td>\n",
       "      <td>False</td>\n",
       "      <td>102.85</td>\n",
       "    </tr>\n",
       "    <tr>\n",
       "      <th>1</th>\n",
       "      <td>2024-09-26</td>\n",
       "      <td>Automotive</td>\n",
       "      <td>BrandA</td>\n",
       "      <td>3</td>\n",
       "      <td>0</td>\n",
       "      <td>66.3</td>\n",
       "      <td>321.28</td>\n",
       "      <td>24.76</td>\n",
       "      <td>49.47</td>\n",
       "      <td>370.0</td>\n",
       "      <td>2024</td>\n",
       "      <td>9</td>\n",
       "      <td>26</td>\n",
       "      <td>3</td>\n",
       "      <td>False</td>\n",
       "      <td>False</td>\n",
       "      <td>False</td>\n",
       "      <td>271.81</td>\n",
       "    </tr>\n",
       "    <tr>\n",
       "      <th>2</th>\n",
       "      <td>2024-09-26</td>\n",
       "      <td>Automotive</td>\n",
       "      <td>BrandA</td>\n",
       "      <td>3</td>\n",
       "      <td>0</td>\n",
       "      <td>14.4</td>\n",
       "      <td>74.85</td>\n",
       "      <td>32.19</td>\n",
       "      <td>245.11</td>\n",
       "      <td>299.0</td>\n",
       "      <td>2024</td>\n",
       "      <td>9</td>\n",
       "      <td>26</td>\n",
       "      <td>3</td>\n",
       "      <td>False</td>\n",
       "      <td>False</td>\n",
       "      <td>False</td>\n",
       "      <td>-170.26</td>\n",
       "    </tr>\n",
       "    <tr>\n",
       "      <th>3</th>\n",
       "      <td>2024-09-26</td>\n",
       "      <td>Automotive</td>\n",
       "      <td>BrandA</td>\n",
       "      <td>3</td>\n",
       "      <td>0</td>\n",
       "      <td>34.7</td>\n",
       "      <td>469.12</td>\n",
       "      <td>43.68</td>\n",
       "      <td>144.08</td>\n",
       "      <td>426.0</td>\n",
       "      <td>2024</td>\n",
       "      <td>9</td>\n",
       "      <td>26</td>\n",
       "      <td>3</td>\n",
       "      <td>False</td>\n",
       "      <td>False</td>\n",
       "      <td>False</td>\n",
       "      <td>325.04</td>\n",
       "    </tr>\n",
       "    <tr>\n",
       "      <th>4</th>\n",
       "      <td>2024-09-22</td>\n",
       "      <td>Automotive</td>\n",
       "      <td>BrandA</td>\n",
       "      <td>6</td>\n",
       "      <td>1</td>\n",
       "      <td>93.5</td>\n",
       "      <td>221.76</td>\n",
       "      <td>36.79</td>\n",
       "      <td>478.07</td>\n",
       "      <td>470.0</td>\n",
       "      <td>2024</td>\n",
       "      <td>9</td>\n",
       "      <td>22</td>\n",
       "      <td>3</td>\n",
       "      <td>False</td>\n",
       "      <td>False</td>\n",
       "      <td>False</td>\n",
       "      <td>-256.31</td>\n",
       "    </tr>\n",
       "  </tbody>\n",
       "</table>\n",
       "</div>"
      ],
      "text/plain": [
       "        Date    Category   Brand  Day_of_Week  Holiday_Indicator  \\\n",
       "0 2024-09-26  Automotive  BrandA            3                  0   \n",
       "1 2024-09-26  Automotive  BrandA            3                  0   \n",
       "2 2024-09-26  Automotive  BrandA            3                  0   \n",
       "3 2024-09-26  Automotive  BrandA            3                  0   \n",
       "4 2024-09-22  Automotive  BrandA            6                  1   \n",
       "\n",
       "   Past_Purchase_Trends   Price  Discount  Competitor_Price  Sales_Quantity  \\\n",
       "0                  17.9  462.30     33.96            359.45           227.0   \n",
       "1                  66.3  321.28     24.76             49.47           370.0   \n",
       "2                  14.4   74.85     32.19            245.11           299.0   \n",
       "3                  34.7  469.12     43.68            144.08           426.0   \n",
       "4                  93.5  221.76     36.79            478.07           470.0   \n",
       "\n",
       "   year  month  day  quarter  is_month_start  is_month_end  is_year_end  \\\n",
       "0  2024      9   26        3           False         False        False   \n",
       "1  2024      9   26        3           False         False        False   \n",
       "2  2024      9   26        3           False         False        False   \n",
       "3  2024      9   26        3           False         False        False   \n",
       "4  2024      9   22        3           False         False        False   \n",
       "\n",
       "   Difference  \n",
       "0      102.85  \n",
       "1      271.81  \n",
       "2     -170.26  \n",
       "3      325.04  \n",
       "4     -256.31  "
      ]
     },
     "execution_count": 24,
     "metadata": {},
     "output_type": "execute_result"
    }
   ],
   "source": [
    "data.head()"
   ]
  },
  {
   "cell_type": "code",
   "execution_count": 25,
   "metadata": {},
   "outputs": [
    {
     "data": {
      "text/plain": [
       "year\n",
       "2022    5005\n",
       "2023    4967\n",
       "2021    4785\n",
       "2024    3726\n",
       "Name: count, dtype: int64"
      ]
     },
     "execution_count": 25,
     "metadata": {},
     "output_type": "execute_result"
    }
   ],
   "source": [
    "data[\"year\"].value_counts()"
   ]
  },
  {
   "cell_type": "code",
   "execution_count": 26,
   "metadata": {},
   "outputs": [
    {
     "data": {
      "text/plain": [
       "month\n",
       "6     1695\n",
       "5     1642\n",
       "9     1638\n",
       "8     1638\n",
       "4     1589\n",
       "3     1586\n",
       "1     1532\n",
       "7     1532\n",
       "2     1531\n",
       "12    1423\n",
       "10    1420\n",
       "11    1257\n",
       "Name: count, dtype: int64"
      ]
     },
     "execution_count": 26,
     "metadata": {},
     "output_type": "execute_result"
    }
   ],
   "source": [
    "data[\"month\"].value_counts()"
   ]
  },
  {
   "cell_type": "code",
   "execution_count": 27,
   "metadata": {},
   "outputs": [
    {
     "data": {
      "text/plain": [
       "is_month_end\n",
       "False    17826\n",
       "True       657\n",
       "Name: count, dtype: int64"
      ]
     },
     "execution_count": 27,
     "metadata": {},
     "output_type": "execute_result"
    }
   ],
   "source": [
    "data[\"is_month_end\"].value_counts()"
   ]
  },
  {
   "cell_type": "code",
   "execution_count": 28,
   "metadata": {},
   "outputs": [
    {
     "data": {
      "text/plain": [
       "is_month_start\n",
       "False    17991\n",
       "True       492\n",
       "Name: count, dtype: int64"
      ]
     },
     "execution_count": 28,
     "metadata": {},
     "output_type": "execute_result"
    }
   ],
   "source": [
    "data[\"is_month_start\"].value_counts()"
   ]
  },
  {
   "cell_type": "code",
   "execution_count": 29,
   "metadata": {},
   "outputs": [
    {
     "data": {
      "text/plain": [
       "is_year_end\n",
       "False    18428\n",
       "True        55\n",
       "Name: count, dtype: int64"
      ]
     },
     "execution_count": 29,
     "metadata": {},
     "output_type": "execute_result"
    }
   ],
   "source": [
    "data[\"is_year_end\"].value_counts()"
   ]
  },
  {
   "cell_type": "code",
   "execution_count": 30,
   "metadata": {},
   "outputs": [
    {
     "data": {
      "text/plain": [
       "quarter\n",
       "2    4926\n",
       "3    4808\n",
       "1    4649\n",
       "4    4100\n",
       "Name: count, dtype: int64"
      ]
     },
     "execution_count": 30,
     "metadata": {},
     "output_type": "execute_result"
    }
   ],
   "source": [
    "data[\"quarter\"].value_counts()"
   ]
  },
  {
   "cell_type": "markdown",
   "metadata": {},
   "source": [
    "Univariate Analysis"
   ]
  },
  {
   "cell_type": "code",
   "execution_count": 32,
   "metadata": {},
   "outputs": [
    {
     "data": {
      "text/html": [
       "<div>\n",
       "<style scoped>\n",
       "    .dataframe tbody tr th:only-of-type {\n",
       "        vertical-align: middle;\n",
       "    }\n",
       "\n",
       "    .dataframe tbody tr th {\n",
       "        vertical-align: top;\n",
       "    }\n",
       "\n",
       "    .dataframe thead th {\n",
       "        text-align: right;\n",
       "    }\n",
       "</style>\n",
       "<table border=\"1\" class=\"dataframe\">\n",
       "  <thead>\n",
       "    <tr style=\"text-align: right;\">\n",
       "      <th></th>\n",
       "      <th>Date</th>\n",
       "      <th>Category</th>\n",
       "      <th>Brand</th>\n",
       "      <th>Day_of_Week</th>\n",
       "      <th>Holiday_Indicator</th>\n",
       "      <th>Past_Purchase_Trends</th>\n",
       "      <th>Price</th>\n",
       "      <th>Discount</th>\n",
       "      <th>Competitor_Price</th>\n",
       "      <th>Sales_Quantity</th>\n",
       "      <th>year</th>\n",
       "      <th>month</th>\n",
       "      <th>day</th>\n",
       "      <th>quarter</th>\n",
       "      <th>is_month_start</th>\n",
       "      <th>is_month_end</th>\n",
       "      <th>is_year_end</th>\n",
       "      <th>Difference</th>\n",
       "    </tr>\n",
       "  </thead>\n",
       "  <tbody>\n",
       "    <tr>\n",
       "      <th>0</th>\n",
       "      <td>2024-09-26</td>\n",
       "      <td>Automotive</td>\n",
       "      <td>BrandA</td>\n",
       "      <td>3</td>\n",
       "      <td>0</td>\n",
       "      <td>17.9</td>\n",
       "      <td>462.30</td>\n",
       "      <td>33.96</td>\n",
       "      <td>359.45</td>\n",
       "      <td>227.0</td>\n",
       "      <td>2024</td>\n",
       "      <td>9</td>\n",
       "      <td>26</td>\n",
       "      <td>3</td>\n",
       "      <td>False</td>\n",
       "      <td>False</td>\n",
       "      <td>False</td>\n",
       "      <td>102.85</td>\n",
       "    </tr>\n",
       "    <tr>\n",
       "      <th>1</th>\n",
       "      <td>2024-09-26</td>\n",
       "      <td>Automotive</td>\n",
       "      <td>BrandA</td>\n",
       "      <td>3</td>\n",
       "      <td>0</td>\n",
       "      <td>66.3</td>\n",
       "      <td>321.28</td>\n",
       "      <td>24.76</td>\n",
       "      <td>49.47</td>\n",
       "      <td>370.0</td>\n",
       "      <td>2024</td>\n",
       "      <td>9</td>\n",
       "      <td>26</td>\n",
       "      <td>3</td>\n",
       "      <td>False</td>\n",
       "      <td>False</td>\n",
       "      <td>False</td>\n",
       "      <td>271.81</td>\n",
       "    </tr>\n",
       "    <tr>\n",
       "      <th>2</th>\n",
       "      <td>2024-09-26</td>\n",
       "      <td>Automotive</td>\n",
       "      <td>BrandA</td>\n",
       "      <td>3</td>\n",
       "      <td>0</td>\n",
       "      <td>14.4</td>\n",
       "      <td>74.85</td>\n",
       "      <td>32.19</td>\n",
       "      <td>245.11</td>\n",
       "      <td>299.0</td>\n",
       "      <td>2024</td>\n",
       "      <td>9</td>\n",
       "      <td>26</td>\n",
       "      <td>3</td>\n",
       "      <td>False</td>\n",
       "      <td>False</td>\n",
       "      <td>False</td>\n",
       "      <td>-170.26</td>\n",
       "    </tr>\n",
       "    <tr>\n",
       "      <th>3</th>\n",
       "      <td>2024-09-26</td>\n",
       "      <td>Automotive</td>\n",
       "      <td>BrandA</td>\n",
       "      <td>3</td>\n",
       "      <td>0</td>\n",
       "      <td>34.7</td>\n",
       "      <td>469.12</td>\n",
       "      <td>43.68</td>\n",
       "      <td>144.08</td>\n",
       "      <td>426.0</td>\n",
       "      <td>2024</td>\n",
       "      <td>9</td>\n",
       "      <td>26</td>\n",
       "      <td>3</td>\n",
       "      <td>False</td>\n",
       "      <td>False</td>\n",
       "      <td>False</td>\n",
       "      <td>325.04</td>\n",
       "    </tr>\n",
       "    <tr>\n",
       "      <th>4</th>\n",
       "      <td>2024-09-22</td>\n",
       "      <td>Automotive</td>\n",
       "      <td>BrandA</td>\n",
       "      <td>6</td>\n",
       "      <td>1</td>\n",
       "      <td>93.5</td>\n",
       "      <td>221.76</td>\n",
       "      <td>36.79</td>\n",
       "      <td>478.07</td>\n",
       "      <td>470.0</td>\n",
       "      <td>2024</td>\n",
       "      <td>9</td>\n",
       "      <td>22</td>\n",
       "      <td>3</td>\n",
       "      <td>False</td>\n",
       "      <td>False</td>\n",
       "      <td>False</td>\n",
       "      <td>-256.31</td>\n",
       "    </tr>\n",
       "  </tbody>\n",
       "</table>\n",
       "</div>"
      ],
      "text/plain": [
       "        Date    Category   Brand  Day_of_Week  Holiday_Indicator  \\\n",
       "0 2024-09-26  Automotive  BrandA            3                  0   \n",
       "1 2024-09-26  Automotive  BrandA            3                  0   \n",
       "2 2024-09-26  Automotive  BrandA            3                  0   \n",
       "3 2024-09-26  Automotive  BrandA            3                  0   \n",
       "4 2024-09-22  Automotive  BrandA            6                  1   \n",
       "\n",
       "   Past_Purchase_Trends   Price  Discount  Competitor_Price  Sales_Quantity  \\\n",
       "0                  17.9  462.30     33.96            359.45           227.0   \n",
       "1                  66.3  321.28     24.76             49.47           370.0   \n",
       "2                  14.4   74.85     32.19            245.11           299.0   \n",
       "3                  34.7  469.12     43.68            144.08           426.0   \n",
       "4                  93.5  221.76     36.79            478.07           470.0   \n",
       "\n",
       "   year  month  day  quarter  is_month_start  is_month_end  is_year_end  \\\n",
       "0  2024      9   26        3           False         False        False   \n",
       "1  2024      9   26        3           False         False        False   \n",
       "2  2024      9   26        3           False         False        False   \n",
       "3  2024      9   26        3           False         False        False   \n",
       "4  2024      9   22        3           False         False        False   \n",
       "\n",
       "   Difference  \n",
       "0      102.85  \n",
       "1      271.81  \n",
       "2     -170.26  \n",
       "3      325.04  \n",
       "4     -256.31  "
      ]
     },
     "execution_count": 32,
     "metadata": {},
     "output_type": "execute_result"
    }
   ],
   "source": [
    "data.head()"
   ]
  },
  {
   "cell_type": "code",
   "execution_count": 34,
   "metadata": {},
   "outputs": [
    {
     "data": {
      "image/png": "[encoded data removed]",
      "text/plain": [
       "<Figure size 640x480 with 1 Axes>"
      ]
     },
     "metadata": {},
     "output_type": "display_data"
    }
   ],
   "source": [
    "sn.countplot(x='Category', data=data)\n",
    "pt.title('Count Plot for Category')\n",
    "pt.show()"
   ]
  },
  {
   "cell_type": "code",
   "execution_count": 35,
   "metadata": {},
   "outputs": [
    {
     "data": {
      "image/png": "[encoded data removed]",
      "text/plain": [
       "<Figure size 640x480 with 1 Axes>"
      ]
     },
     "metadata": {},
     "output_type": "display_data"
    }
   ],
   "source": [
    "sn.countplot(x='Brand', data=data)\n",
    "pt.title('Count Plot for Brand')\n",
    "pt.show()"
   ]
  },
  {
   "cell_type": "code",
   "execution_count": 36,
   "metadata": {},
   "outputs": [
    {
     "data": {
      "image/png": "[encoded data removed]",
      "text/plain": [
       "<Figure size 640x480 with 1 Axes>"
      ]
     },
     "metadata": {},
     "output_type": "display_data"
    }
   ],
   "source": [
    "sn.histplot(data[\"Day_of_Week\"], kde=False)\n",
    "pt.title('Histogram')\n",
    "pt.show()"
   ]
  },
  {
   "cell_type": "code",
   "execution_count": 37,
   "metadata": {},
   "outputs": [
    {
     "data": {
      "image/png": "[encoded data removed]",
      "text/plain": [
       "<Figure size 640x480 with 1 Axes>"
      ]
     },
     "metadata": {},
     "output_type": "display_data"
    }
   ],
   "source": [
    "sn.histplot(data[\"Holiday_Indicator\"], kde=False)\n",
    "pt.title('Histogram')\n",
    "pt.show()"
   ]
  },
  {
   "cell_type": "code",
   "execution_count": 39,
   "metadata": {},
   "outputs": [
    {
     "data": {
      "image/png": "[encoded data removed]",
      "text/plain": [
       "<Figure size 640x480 with 1 Axes>"
      ]
     },
     "metadata": {},
     "output_type": "display_data"
    }
   ],
   "source": [
    "sn.kdeplot(data[\"Past_Purchase_Trends\"])\n",
    "pt.title('KDE Plot')\n",
    "pt.show()"
   ]
  },
  {
   "cell_type": "markdown",
   "metadata": {},
   "source": [
    "Bivariate Analysis"
   ]
  },
  {
   "cell_type": "code",
   "execution_count": 40,
   "metadata": {},
   "outputs": [
    {
     "data": {
      "text/html": [
       "<div>\n",
       "<style scoped>\n",
       "    .dataframe tbody tr th:only-of-type {\n",
       "        vertical-align: middle;\n",
       "    }\n",
       "\n",
       "    .dataframe tbody tr th {\n",
       "        vertical-align: top;\n",
       "    }\n",
       "\n",
       "    .dataframe thead th {\n",
       "        text-align: right;\n",
       "    }\n",
       "</style>\n",
       "<table border=\"1\" class=\"dataframe\">\n",
       "  <thead>\n",
       "    <tr style=\"text-align: right;\">\n",
       "      <th></th>\n",
       "      <th>Date</th>\n",
       "      <th>Category</th>\n",
       "      <th>Brand</th>\n",
       "      <th>Day_of_Week</th>\n",
       "      <th>Holiday_Indicator</th>\n",
       "      <th>Past_Purchase_Trends</th>\n",
       "      <th>Price</th>\n",
       "      <th>Discount</th>\n",
       "      <th>Competitor_Price</th>\n",
       "      <th>Sales_Quantity</th>\n",
       "      <th>year</th>\n",
       "      <th>month</th>\n",
       "      <th>day</th>\n",
       "      <th>quarter</th>\n",
       "      <th>is_month_start</th>\n",
       "      <th>is_month_end</th>\n",
       "      <th>is_year_end</th>\n",
       "      <th>Difference</th>\n",
       "    </tr>\n",
       "  </thead>\n",
       "  <tbody>\n",
       "    <tr>\n",
       "      <th>0</th>\n",
       "      <td>2024-09-26</td>\n",
       "      <td>Automotive</td>\n",
       "      <td>BrandA</td>\n",
       "      <td>3</td>\n",
       "      <td>0</td>\n",
       "      <td>17.9</td>\n",
       "      <td>462.30</td>\n",
       "      <td>33.96</td>\n",
       "      <td>359.45</td>\n",
       "      <td>227.0</td>\n",
       "      <td>2024</td>\n",
       "      <td>9</td>\n",
       "      <td>26</td>\n",
       "      <td>3</td>\n",
       "      <td>False</td>\n",
       "      <td>False</td>\n",
       "      <td>False</td>\n",
       "      <td>102.85</td>\n",
       "    </tr>\n",
       "    <tr>\n",
       "      <th>1</th>\n",
       "      <td>2024-09-26</td>\n",
       "      <td>Automotive</td>\n",
       "      <td>BrandA</td>\n",
       "      <td>3</td>\n",
       "      <td>0</td>\n",
       "      <td>66.3</td>\n",
       "      <td>321.28</td>\n",
       "      <td>24.76</td>\n",
       "      <td>49.47</td>\n",
       "      <td>370.0</td>\n",
       "      <td>2024</td>\n",
       "      <td>9</td>\n",
       "      <td>26</td>\n",
       "      <td>3</td>\n",
       "      <td>False</td>\n",
       "      <td>False</td>\n",
       "      <td>False</td>\n",
       "      <td>271.81</td>\n",
       "    </tr>\n",
       "    <tr>\n",
       "      <th>2</th>\n",
       "      <td>2024-09-26</td>\n",
       "      <td>Automotive</td>\n",
       "      <td>BrandA</td>\n",
       "      <td>3</td>\n",
       "      <td>0</td>\n",
       "      <td>14.4</td>\n",
       "      <td>74.85</td>\n",
       "      <td>32.19</td>\n",
       "      <td>245.11</td>\n",
       "      <td>299.0</td>\n",
       "      <td>2024</td>\n",
       "      <td>9</td>\n",
       "      <td>26</td>\n",
       "      <td>3</td>\n",
       "      <td>False</td>\n",
       "      <td>False</td>\n",
       "      <td>False</td>\n",
       "      <td>-170.26</td>\n",
       "    </tr>\n",
       "    <tr>\n",
       "      <th>3</th>\n",
       "      <td>2024-09-26</td>\n",
       "      <td>Automotive</td>\n",
       "      <td>BrandA</td>\n",
       "      <td>3</td>\n",
       "      <td>0</td>\n",
       "      <td>34.7</td>\n",
       "      <td>469.12</td>\n",
       "      <td>43.68</td>\n",
       "      <td>144.08</td>\n",
       "      <td>426.0</td>\n",
       "      <td>2024</td>\n",
       "      <td>9</td>\n",
       "      <td>26</td>\n",
       "      <td>3</td>\n",
       "      <td>False</td>\n",
       "      <td>False</td>\n",
       "      <td>False</td>\n",
       "      <td>325.04</td>\n",
       "    </tr>\n",
       "    <tr>\n",
       "      <th>4</th>\n",
       "      <td>2024-09-22</td>\n",
       "      <td>Automotive</td>\n",
       "      <td>BrandA</td>\n",
       "      <td>6</td>\n",
       "      <td>1</td>\n",
       "      <td>93.5</td>\n",
       "      <td>221.76</td>\n",
       "      <td>36.79</td>\n",
       "      <td>478.07</td>\n",
       "      <td>470.0</td>\n",
       "      <td>2024</td>\n",
       "      <td>9</td>\n",
       "      <td>22</td>\n",
       "      <td>3</td>\n",
       "      <td>False</td>\n",
       "      <td>False</td>\n",
       "      <td>False</td>\n",
       "      <td>-256.31</td>\n",
       "    </tr>\n",
       "  </tbody>\n",
       "</table>\n",
       "</div>"
      ],
      "text/plain": [
       "        Date    Category   Brand  Day_of_Week  Holiday_Indicator  \\\n",
       "0 2024-09-26  Automotive  BrandA            3                  0   \n",
       "1 2024-09-26  Automotive  BrandA            3                  0   \n",
       "2 2024-09-26  Automotive  BrandA            3                  0   \n",
       "3 2024-09-26  Automotive  BrandA            3                  0   \n",
       "4 2024-09-22  Automotive  BrandA            6                  1   \n",
       "\n",
       "   Past_Purchase_Trends   Price  Discount  Competitor_Price  Sales_Quantity  \\\n",
       "0                  17.9  462.30     33.96            359.45           227.0   \n",
       "1                  66.3  321.28     24.76             49.47           370.0   \n",
       "2                  14.4   74.85     32.19            245.11           299.0   \n",
       "3                  34.7  469.12     43.68            144.08           426.0   \n",
       "4                  93.5  221.76     36.79            478.07           470.0   \n",
       "\n",
       "   year  month  day  quarter  is_month_start  is_month_end  is_year_end  \\\n",
       "0  2024      9   26        3           False         False        False   \n",
       "1  2024      9   26        3           False         False        False   \n",
       "2  2024      9   26        3           False         False        False   \n",
       "3  2024      9   26        3           False         False        False   \n",
       "4  2024      9   22        3           False         False        False   \n",
       "\n",
       "   Difference  \n",
       "0      102.85  \n",
       "1      271.81  \n",
       "2     -170.26  \n",
       "3      325.04  \n",
       "4     -256.31  "
      ]
     },
     "execution_count": 40,
     "metadata": {},
     "output_type": "execute_result"
    }
   ],
   "source": [
    "data.head()"
   ]
  },
  {
   "cell_type": "code",
   "execution_count": 43,
   "metadata": {},
   "outputs": [
    {
     "data": {
      "image/png": "[encoded data removed]",
      "text/plain": [
       "<Figure size 640x480 with 1 Axes>"
      ]
     },
     "metadata": {},
     "output_type": "display_data"
    }
   ],
   "source": [
    "sn.barplot(x=data[\"Category\"], y=data[\"Past_Purchase_Trends\"])\n",
    "pt.title('Category vs Past_Purchase_Trends')\n",
    "pt.show()"
   ]
  },
  {
   "cell_type": "code",
   "execution_count": null,
   "metadata": {},
   "outputs": [],
   "source": []
  },
  {
   "cell_type": "code",
   "execution_count": null,
   "metadata": {},
   "outputs": [],
   "source": []
  },
  {
   "cell_type": "code",
   "execution_count": null,
   "metadata": {},
   "outputs": [],
   "source": []
  },
  {
   "cell_type": "code",
   "execution_count": null,
   "metadata": {},
   "outputs": [],
   "source": []
  },
  {
   "cell_type": "code",
   "execution_count": null,
   "metadata": {},
   "outputs": [],
   "source": []
  },
  {
   "cell_type": "code",
   "execution_count": null,
   "metadata": {},
   "outputs": [],
   "source": []
  },
  {
   "cell_type": "code",
   "execution_count": null,
   "metadata": {},
   "outputs": [],
   "source": []
  },
  {
   "cell_type": "code",
   "execution_count": null,
   "metadata": {},
   "outputs": [],
   "source": []
  }
 ],
 "metadata": {
  "kernelspec": {
   "display_name": "Python 3",
   "language": "python",
   "name": "python3"
  },
  "language_info": {
   "codemirror_mode": {
    "name": "ipython",
    "version": 3
   },
   "file_extension": ".py",
   "mimetype": "text/x-python",
   "name": "python",
   "nbconvert_exporter": "python",
   "pygments_lexer": "ipython3",
   "version": "3.12.3"
  }
 },
 "nbformat": 4,
 "nbformat_minor": 2
}
